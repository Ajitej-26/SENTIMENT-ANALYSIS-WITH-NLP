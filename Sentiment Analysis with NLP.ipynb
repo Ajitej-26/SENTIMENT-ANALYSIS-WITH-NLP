import pandas as pd
import numpy as np
import matplotlib.pyplot as plt
import seaborn as sns

# Sample Amazon product reviews data
data = {
    "Review": [
        "Great product, works perfectly!", "Worst purchase ever",
        "Excellent value for money", "Poor quality",
        "Absolutely love this!", "Defective item",
        "Good quality", "Complete waste",
        "Exceeded expectations", "Terrible service"
    ],
    "Actual": ["Positive", "Negative", "Positive", "Negative", 
              "Positive", "Negative", "Positive", "Negative",
              "Positive", "Negative"]
}

df = pd.DataFrame(data)

# Sentiment Analysis Results (This would normally come from your model)
results = {
    'Sentiment': ['Negative', 'Positive'],
    'Correct Prediction': [3, 4],  # Counts from your confusion matrix
    'Wrong Prediction': [1, 2]     # Counts from your confusion matrix
}
result_df = pd.DataFrame(results)

# Calculate percentages
result_df['Correct %'] = result_df['Correct Prediction'] / (result_df['Correct Prediction'] + result_df['Wrong Prediction']) * 100
result_df['Wrong %'] = result_df['Wrong Prediction'] / (result_df['Correct Prediction'] + result_df['Wrong Prediction']) * 100

# 1. VERTICAL BAR CHART WITH PERCENTAGES
plt.figure(figsize=(8, 5))
bar_width = 0.35
index = np.arange(len(result_df))

bars1 = plt.bar(index, result_df['Correct %'], bar_width, label='Correct', color='#66c2a5')
bars2 = plt.bar(index + bar_width, result_df['Wrong %'], bar_width, label='Wrong', color='#fc8d62')

# Add percentage labels on top of bars
for bar in bars1:
    height = bar.get_height()
    plt.text(bar.get_x() + bar.get_width()/2., height,
             f'{height:.1f}%', ha='center', va='bottom')

for bar in bars2:
    height = bar.get_height()
    plt.text(bar.get_x() + bar.get_width()/2., height,
             f'{height:.1f}%', ha='center', va='bottom')

plt.xlabel('Sentiment')
plt.ylabel('Percentage')
plt.title('Amazon Review Sentiment Analysis Accuracy')
plt.xticks(index + bar_width/2, result_df['Sentiment'])
plt.legend()
plt.tight_layout()
plt.show()

# 2. RESULTS TABLE
table_data = pd.DataFrame({
    'Sentiment': result_df['Sentiment'],
    'Total Reviews': result_df['Correct Prediction'] + result_df['Wrong Prediction'],
    'Correct Predictions': result_df['Correct Prediction'],
    'Correct Percentage': result_df['Correct %'],  # Keep as numeric for gradient
    'Wrong Predictions': result_df['Wrong Prediction'], 
    'Wrong Percentage': result_df['Wrong %']  # Keep as numeric for gradient
})

# Format percentages as strings for display
table_data['Correct Percentage'] = table_data['Correct Percentage'].round(1).astype(str) + '%'
table_data['Wrong Percentage'] = table_data['Wrong Percentage'].round(1).astype(str) + '%'

# Display the results table without index
print("\nSentiment Analysis Results:")
display(table_data.style
       .set_properties(**{'text-align': 'center'})
       .set_caption("Review Classification Performance")
       .background_gradient(subset=['Correct %', 'Wrong %'], cmap='RdYlGn'))
